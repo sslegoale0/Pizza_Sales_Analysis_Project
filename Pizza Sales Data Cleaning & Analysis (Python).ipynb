{
 "cells": [
  {
   "cell_type": "markdown",
   "id": "0c91a71e-4ea2-45b2-828e-8333fa059f45",
   "metadata": {},
   "source": [
    "Pizza Sales Data Cleaning."
   ]
  },
  {
   "cell_type": "code",
   "execution_count": null,
   "id": "e385893c-9797-4cca-ab42-9efd3b8f7180",
   "metadata": {},
   "outputs": [],
   "source": [
    "#Importing Python libraries for data analysis."
   ]
  },
  {
   "cell_type": "code",
   "execution_count": null,
   "id": "7ac285ad-f4ff-4989-a50a-44169cabde5d",
   "metadata": {},
   "outputs": [],
   "source": [
    "import numpy as np\n",
    "import pandas as pd\n",
    "import matplotlib.pyplot as plt\n",
    "import seaborn as sns"
   ]
  },
  {
   "cell_type": "code",
   "execution_count": null,
   "id": "55da5f82-b360-48cd-adcf-a0b301f68b30",
   "metadata": {},
   "outputs": [],
   "source": [
    "#Importing pizza sales data into Python."
   ]
  },
  {
   "cell_type": "code",
   "execution_count": null,
   "id": "a808562b-0b2a-4b73-bf0a-029bff9ee21d",
   "metadata": {},
   "outputs": [],
   "source": [
    "orders = pd.read_excel(\"Pizza Sales Data.xlsx\")"
   ]
  },
  {
   "cell_type": "code",
   "execution_count": null,
   "id": "2825f57e-916a-457b-a100-0c7ee1f81294",
   "metadata": {},
   "outputs": [],
   "source": [
    "#Selecting top 5 rows in the data."
   ]
  },
  {
   "cell_type": "code",
   "execution_count": null,
   "id": "afd7047d-c9bb-4fcc-a2ac-b6e6848e68ea",
   "metadata": {},
   "outputs": [],
   "source": [
    "orders.head()"
   ]
  },
  {
   "cell_type": "code",
   "execution_count": null,
   "id": "2c7d1368-21ff-4051-a9b8-e39777869ec8",
   "metadata": {},
   "outputs": [],
   "source": [
    "#Getting info on the data."
   ]
  },
  {
   "cell_type": "code",
   "execution_count": null,
   "id": "0f465e77-cf93-4f79-a11c-b029717e1f34",
   "metadata": {},
   "outputs": [],
   "source": [
    "orders.info()"
   ]
  },
  {
   "cell_type": "code",
   "execution_count": null,
   "id": "96fb030e-3cf8-45f9-b668-7da8b67d5c7d",
   "metadata": {},
   "outputs": [],
   "source": [
    "#Removing duplicated rows."
   ]
  },
  {
   "cell_type": "code",
   "execution_count": null,
   "id": "bd65f705-f7c4-4644-aee0-61337e7f38f5",
   "metadata": {},
   "outputs": [],
   "source": [
    "orders.columns"
   ]
  },
  {
   "cell_type": "code",
   "execution_count": null,
   "id": "bf1b1b54-db4f-4d1a-b61b-bfd229e120b2",
   "metadata": {},
   "outputs": [],
   "source": [
    "orders.duplicated(subset = ['order_id', 'pizza_name_id', 'quantity', 'order_date',\n",
    "       'order_time', 'unit_price', 'total_price', 'pizza_size',\n",
    "       'pizza_category', 'pizza_ingredients', 'pizza_name']).any()"
   ]
  },
  {
   "cell_type": "code",
   "execution_count": null,
   "id": "08121dc0-6564-4458-aca8-06a9884da8a6",
   "metadata": {},
   "outputs": [],
   "source": [
    "orders[\"pizza_id\"].nunique()"
   ]
  },
  {
   "cell_type": "code",
   "execution_count": null,
   "id": "58ebe534-79d5-4933-8f64-42c95076af2b",
   "metadata": {},
   "outputs": [],
   "source": []
  }
 ],
 "metadata": {
  "kernelspec": {
   "display_name": "Python 3 (ipykernel)",
   "language": "python",
   "name": "python3"
  },
  "language_info": {
   "codemirror_mode": {
    "name": "ipython",
    "version": 3
   },
   "file_extension": ".py",
   "mimetype": "text/x-python",
   "name": "python",
   "nbconvert_exporter": "python",
   "pygments_lexer": "ipython3",
   "version": "3.12.4"
  }
 },
 "nbformat": 4,
 "nbformat_minor": 5
}
