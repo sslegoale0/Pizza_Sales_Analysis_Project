{
 "cells": [
  {
   "cell_type": "markdown",
   "id": "0c91a71e-4ea2-45b2-828e-8333fa059f45",
   "metadata": {},
   "source": [
    "## Pizza Sales Data Cleaning."
   ]
  },
  {
   "cell_type": "markdown",
   "id": "dee60a17-5f52-4cd9-8153-c802862c8148",
   "metadata": {},
   "source": [
    "#### Importing Python libraries for data analysis."
   ]
  },
  {
   "cell_type": "code",
   "execution_count": null,
   "id": "7ac285ad-f4ff-4989-a50a-44169cabde5d",
   "metadata": {},
   "outputs": [],
   "source": [
    "import numpy as np\n",
    "import pandas as pd\n",
    "import matplotlib.pyplot as plt\n",
    "import seaborn as sns"
   ]
  },
  {
   "cell_type": "markdown",
   "id": "aa53a49a-9f21-49b0-83c8-875ea7ff2afa",
   "metadata": {},
   "source": [
    "#### Importing pizza sales data into Python."
   ]
  },
  {
   "cell_type": "code",
   "execution_count": null,
   "id": "a808562b-0b2a-4b73-bf0a-029bff9ee21d",
   "metadata": {},
   "outputs": [],
   "source": [
    "orders = pd.read_excel(\"Pizza Sales Data.xlsx\")"
   ]
  },
  {
   "cell_type": "markdown",
   "id": "59b94a41-6a19-493f-b779-ed2fecefd803",
   "metadata": {},
   "source": [
    "#### Selecting top 5 rows in the data."
   ]
  },
  {
   "cell_type": "code",
   "execution_count": null,
   "id": "afd7047d-c9bb-4fcc-a2ac-b6e6848e68ea",
   "metadata": {},
   "outputs": [],
   "source": [
    "orders.head()"
   ]
  },
  {
   "cell_type": "markdown",
   "id": "90ecac4c-5c4d-4faa-9f0e-50f81dd64ba9",
   "metadata": {},
   "source": [
    "#### Getting info on the data."
   ]
  },
  {
   "cell_type": "code",
   "execution_count": null,
   "id": "0f465e77-cf93-4f79-a11c-b029717e1f34",
   "metadata": {},
   "outputs": [],
   "source": [
    "orders.info()"
   ]
  },
  {
   "cell_type": "code",
   "execution_count": null,
   "id": "bd65f705-f7c4-4644-aee0-61337e7f38f5",
   "metadata": {},
   "outputs": [],
   "source": [
    "orders.columns"
   ]
  },
  {
   "cell_type": "markdown",
   "id": "7e7e6627-de36-4bf6-96a4-332600a220fd",
   "metadata": {},
   "source": [
    "### 1. Removing duplicated rows."
   ]
  },
  {
   "cell_type": "code",
   "execution_count": null,
   "id": "5d9b1138-690a-4959-9156-513d7f72cbe0",
   "metadata": {},
   "outputs": [],
   "source": [
    "orders.duplicated().sum()"
   ]
  },
  {
   "cell_type": "code",
   "execution_count": null,
   "id": "08121dc0-6564-4458-aca8-06a9884da8a6",
   "metadata": {},
   "outputs": [],
   "source": [
    "orders[\"pizza_id\"].nunique()"
   ]
  },
  {
   "cell_type": "code",
   "execution_count": null,
   "id": "bf1b1b54-db4f-4d1a-b61b-bfd229e120b2",
   "metadata": {},
   "outputs": [],
   "source": [
    "orders.duplicated(subset = ['order_id', 'pizza_name_id', 'quantity', 'order_date',\n",
    "       'order_time', 'unit_price', 'total_price', 'pizza_size',\n",
    "       'pizza_category', 'pizza_ingredients', 'pizza_name']).sum()"
   ]
  },
  {
   "cell_type": "markdown",
   "id": "58a2caa1-53dc-4aca-979d-bc4046e26395",
   "metadata": {},
   "source": [
    "### 2. Data formatting & standardisation."
   ]
  },
  {
   "cell_type": "code",
   "execution_count": null,
   "id": "09607705-8a11-41da-a6d8-3a5c69b8c4ee",
   "metadata": {},
   "outputs": [],
   "source": [
    "orders[\"order_id\"].sort_values().unique()"
   ]
  },
  {
   "cell_type": "code",
   "execution_count": null,
   "id": "a8d7c299-5221-4734-930d-1ec5bf8da559",
   "metadata": {},
   "outputs": [],
   "source": [
    "orders[\"pizza_name_id\"].sort_values().unique()"
   ]
  },
  {
   "cell_type": "code",
   "execution_count": null,
   "id": "3c37e946-e0fe-4a34-8646-3d518b7b4c24",
   "metadata": {},
   "outputs": [],
   "source": [
    "orders[\"quantity\"].sort_values().unique()"
   ]
  },
  {
   "cell_type": "code",
   "execution_count": null,
   "id": "904493fe-58a0-4d9b-a597-63a461823b9b",
   "metadata": {},
   "outputs": [],
   "source": [
    "orders[\"order_date\"].sort_values().unique()"
   ]
  },
  {
   "cell_type": "code",
   "execution_count": null,
   "id": "fdb18c8c-6b43-4b16-9266-f6977c602f1c",
   "metadata": {},
   "outputs": [],
   "source": [
    "orders[\"order_time\"].sort_values().unique()"
   ]
  },
  {
   "cell_type": "code",
   "execution_count": null,
   "id": "33528eaf-86ae-4275-a0ce-5e36264b1e98",
   "metadata": {},
   "outputs": [],
   "source": [
    "orders[\"order_datetime\"] = pd.to_datetime(orders[\"order_date\"] + \" \" + orders[\"order_time\"].astype(str), format=\"%d-%m-%Y %H:%M:%S\")"
   ]
  },
  {
   "cell_type": "code",
   "execution_count": null,
   "id": "85755461-7229-47e1-86fc-0b080d58804a",
   "metadata": {},
   "outputs": [],
   "source": [
    "orders[\"order_datetime\"]"
   ]
  },
  {
   "cell_type": "code",
   "execution_count": null,
   "id": "8f4f58dd-e171-4a3d-966f-cc1cbc851714",
   "metadata": {},
   "outputs": [],
   "source": [
    "orders[\"unit_price\"].sort_values().unique()"
   ]
  },
  {
   "cell_type": "code",
   "execution_count": null,
   "id": "b005662a-e4b7-4914-a342-5c96dbddfa9a",
   "metadata": {},
   "outputs": [],
   "source": [
    "orders[\"total_price\"].sort_values().unique()"
   ]
  },
  {
   "cell_type": "code",
   "execution_count": null,
   "id": "3d906102-442f-46d7-a611-a2311dc16f61",
   "metadata": {},
   "outputs": [],
   "source": [
    "orders[\"pizza_size\"].sort_values().unique()"
   ]
  },
  {
   "cell_type": "code",
   "execution_count": null,
   "id": "fb498bed-92db-412b-b00b-5e1e67fd0618",
   "metadata": {},
   "outputs": [],
   "source": [
    "orders[\"pizza_category\"].sort_values().unique()"
   ]
  },
  {
   "cell_type": "code",
   "execution_count": null,
   "id": "e29c6ab5-982f-41a1-8ac2-6c2cf372c6c4",
   "metadata": {},
   "outputs": [],
   "source": [
    "orders[\"pizza_ingredients\"].sort_values().unique()"
   ]
  },
  {
   "cell_type": "code",
   "execution_count": null,
   "id": "1820825c-4495-4263-aa97-c117d5c1ed65",
   "metadata": {},
   "outputs": [],
   "source": [
    "orders[\"pizza_ingredients\"] = orders[\"pizza_ingredients\"].str.replace(\"?\",\"N\")"
   ]
  },
  {
   "cell_type": "code",
   "execution_count": null,
   "id": "bce63404-ef83-4b7e-ba0c-513c13855d3c",
   "metadata": {},
   "outputs": [],
   "source": [
    "orders[\"pizza_name\"].sort_values().unique()"
   ]
  },
  {
   "cell_type": "markdown",
   "id": "8e75bb28-d584-4623-850d-cea4a92ec41d",
   "metadata": {},
   "source": [
    "### 3. Imputation of blank/null values"
   ]
  },
  {
   "cell_type": "code",
   "execution_count": null,
   "id": "78965cb4-48d2-4f25-834c-6407a408630d",
   "metadata": {},
   "outputs": [],
   "source": [
    "orders.isna().sum()"
   ]
  },
  {
   "cell_type": "markdown",
   "id": "a648c50d-a0ef-4c10-b7c4-d2b297f2da28",
   "metadata": {},
   "source": [
    "## Pizza Sales Data Analysis."
   ]
  },
  {
   "cell_type": "markdown",
   "id": "3d10f52e-8f08-46db-b4f3-b2d8d8e08a8d",
   "metadata": {},
   "source": [
    "#### 1. Total Revenue"
   ]
  },
  {
   "cell_type": "code",
   "execution_count": null,
   "id": "c24e786a-4d8c-476e-a9f9-c87bfd4a4df5",
   "metadata": {},
   "outputs": [],
   "source": [
    "orders[\"total_price\"].sum()"
   ]
  },
  {
   "cell_type": "markdown",
   "id": "7abb1db2-6998-4a72-a6a3-421bb82adcc2",
   "metadata": {},
   "source": [
    "#### 2. Total Sales"
   ]
  },
  {
   "cell_type": "code",
   "execution_count": null,
   "id": "8a187b41-d116-403e-81ef-5ea2cc6c0825",
   "metadata": {},
   "outputs": [],
   "source": [
    "orders[\"quantity\"].sum()"
   ]
  },
  {
   "cell_type": "markdown",
   "id": "90bbb316-5fcb-4f3e-a47f-f0f7d6509716",
   "metadata": {},
   "source": [
    "#### 3. Total Orders"
   ]
  },
  {
   "cell_type": "code",
   "execution_count": null,
   "id": "d14ef306-87d5-4362-9251-7c71b76f2eac",
   "metadata": {},
   "outputs": [],
   "source": [
    "orders[\"order_id\"].nunique()"
   ]
  },
  {
   "cell_type": "markdown",
   "id": "81cbd613-45cc-43f6-81b0-75f1ba792a96",
   "metadata": {},
   "source": [
    "#### 4. Average Order Value"
   ]
  },
  {
   "cell_type": "code",
   "execution_count": null,
   "id": "a20186bf-5577-4013-8e36-af1682b55220",
   "metadata": {},
   "outputs": [],
   "source": [
    "(orders[\"total_price\"].sum()/orders[\"order_id\"].nunique()).round(2)"
   ]
  },
  {
   "cell_type": "markdown",
   "id": "72969fb6-c76f-4e23-9d4f-f5baa30f00e3",
   "metadata": {},
   "source": [
    "#### 5. Average Pizza Price"
   ]
  },
  {
   "cell_type": "code",
   "execution_count": null,
   "id": "ca9684f3-ad55-413b-998d-86fc7decd6de",
   "metadata": {},
   "outputs": [],
   "source": [
    "(orders[\"total_price\"].sum()/orders[\"quantity\"].sum()).round(2)"
   ]
  },
  {
   "cell_type": "markdown",
   "id": "41db725a-3636-47de-a6f6-ace311c3dd23",
   "metadata": {},
   "source": [
    "#### 6. Average Pizzas per Order"
   ]
  },
  {
   "cell_type": "code",
   "execution_count": null,
   "id": "d777dfb3-fd81-4d0e-b374-397dd998ddb6",
   "metadata": {},
   "outputs": [],
   "source": [
    "(orders[\"quantity\"].sum()/orders[\"order_id\"].nunique()).round(2)"
   ]
  },
  {
   "cell_type": "markdown",
   "id": "39dad70f-b18e-45bf-8c73-94b67a585b68",
   "metadata": {},
   "source": [
    "#### 7. Total Revenue by Order Month"
   ]
  },
  {
   "cell_type": "code",
   "execution_count": null,
   "id": "5e5cd299-590e-4e4c-b750-48d6684e7296",
   "metadata": {},
   "outputs": [],
   "source": [
    "orders[\"order_month\"] = orders[\"order_datetime\"].dt.month\n",
    "orders[\"order_month_name\"] = orders[\"order_datetime\"].dt.month_name()"
   ]
  },
  {
   "cell_type": "code",
   "execution_count": null,
   "id": "a45a1255-9cd2-4e5d-ae5b-f5da11893054",
   "metadata": {},
   "outputs": [],
   "source": [
    "orders.groupby([\"order_month\", \"order_month_name\"])[\"total_price\"].sum()"
   ]
  },
  {
   "cell_type": "markdown",
   "id": "d7034177-4350-4093-912f-d73b740d5232",
   "metadata": {},
   "source": [
    "#### 8. Total Sales by Order Month"
   ]
  },
  {
   "cell_type": "code",
   "execution_count": null,
   "id": "0ed69ff6-fcf7-4963-82ca-ed8f60863ca8",
   "metadata": {},
   "outputs": [],
   "source": [
    "orders.groupby([\"order_month\", \"order_month_name\"])[\"quantity\"].sum()"
   ]
  },
  {
   "cell_type": "markdown",
   "id": "114272b0-c7ec-4e63-bb69-c32bd5ed5db0",
   "metadata": {},
   "source": [
    "#### 9. Total Orders by Order Month"
   ]
  },
  {
   "cell_type": "code",
   "execution_count": null,
   "id": "0d805252-3807-48f1-9794-9cc081d37dd3",
   "metadata": {},
   "outputs": [],
   "source": [
    "orders.groupby([\"order_month\", \"order_month_name\"])[\"order_id\"].nunique()"
   ]
  },
  {
   "cell_type": "markdown",
   "id": "fe55081e-75d4-41a9-b64e-0bdaac239faa",
   "metadata": {},
   "source": [
    "#### 10. Total Revenue by Order Date"
   ]
  },
  {
   "cell_type": "code",
   "execution_count": null,
   "id": "52226164-b6fb-4993-9513-5cbd083f5016",
   "metadata": {},
   "outputs": [],
   "source": [
    "orders.groupby([\"order_date\"])[\"total_price\"].sum()"
   ]
  },
  {
   "cell_type": "markdown",
   "id": "aa9bf71e-1e93-4622-9ad0-937180456756",
   "metadata": {},
   "source": [
    "#### 11. Total Sales by Order Date"
   ]
  },
  {
   "cell_type": "code",
   "execution_count": null,
   "id": "5cc27ba4-ac72-4571-babd-18d40cceb249",
   "metadata": {},
   "outputs": [],
   "source": [
    "orders.groupby([\"order_date\"])[\"quantity\"].sum()"
   ]
  },
  {
   "cell_type": "markdown",
   "id": "4d7af9b1-000b-4aa7-9a65-d8ccfb1ae26d",
   "metadata": {},
   "source": [
    "#### 12. Total Order by Order Date"
   ]
  },
  {
   "cell_type": "code",
   "execution_count": null,
   "id": "695be7da-2b2a-4878-b457-d416f6f3bc17",
   "metadata": {},
   "outputs": [],
   "source": [
    "orders.groupby([\"order_date\"])[\"order_id\"].nunique()"
   ]
  },
  {
   "cell_type": "markdown",
   "id": "60ca7d5f-28a6-449d-a5dc-643c78002710",
   "metadata": {},
   "source": [
    "#### 13. Total Revenue by Order Day"
   ]
  },
  {
   "cell_type": "code",
   "execution_count": null,
   "id": "87e654b1-07ce-4b64-a9a2-d1307413546a",
   "metadata": {},
   "outputs": [],
   "source": [
    "orders[\"order_day\"] = orders[\"order_datetime\"].dt.weekday\n",
    "orders[\"order_day_name\"] = orders[\"order_datetime\"].dt.day_name()"
   ]
  },
  {
   "cell_type": "code",
   "execution_count": null,
   "id": "25b3abd9-5e90-4951-bbe5-cff67aafdea9",
   "metadata": {},
   "outputs": [],
   "source": [
    "orders.groupby([\"order_month\", \"order_month_name\", \"order_day\", \"order_day_name\"])[\"total_price\"].sum()"
   ]
  },
  {
   "cell_type": "markdown",
   "id": "ab91203d-1202-4838-ab6a-a7ce6316e3dc",
   "metadata": {},
   "source": [
    "#### 14. Total Sales by Order Day"
   ]
  },
  {
   "cell_type": "code",
   "execution_count": null,
   "id": "883c97c0-3a56-432d-b2b4-ad9d567f2afc",
   "metadata": {},
   "outputs": [],
   "source": [
    "orders.groupby([\"order_month\", \"order_month_name\", \"order_day\", \"order_day_name\"])[\"quantity\"].sum()"
   ]
  },
  {
   "cell_type": "markdown",
   "id": "19515c34-657f-4d21-8753-6b2b8886e92d",
   "metadata": {},
   "source": [
    "#### 15. Total Orders by Order Day"
   ]
  },
  {
   "cell_type": "code",
   "execution_count": null,
   "id": "4ab31630-b5ac-4886-9751-4ac8b87f6e2a",
   "metadata": {},
   "outputs": [],
   "source": [
    "orders.groupby([\"order_month\", \"order_month_name\", \"order_day\", \"order_day_name\"])[\"order_id\"].nunique()"
   ]
  },
  {
   "cell_type": "markdown",
   "id": "2f0ce6f9-d368-493b-99c2-c0a767d0d317",
   "metadata": {},
   "source": [
    "#### 16. Total Revenue by Order Hour"
   ]
  },
  {
   "cell_type": "code",
   "execution_count": null,
   "id": "43e71ddc-cc20-4512-98f4-d2dce5751210",
   "metadata": {},
   "outputs": [],
   "source": [
    "orders[\"order_hour\"] = orders[\"order_datetime\"].dt.hour"
   ]
  },
  {
   "cell_type": "code",
   "execution_count": null,
   "id": "b5159b40-07bb-4f93-b175-95d5d38a12c4",
   "metadata": {},
   "outputs": [],
   "source": [
    "orders.groupby([\"order_month\", \"order_month_name\", \"order_hour\"])[\"total_price\"].sum()"
   ]
  },
  {
   "cell_type": "markdown",
   "id": "3298e8a9-faf4-4f40-b390-c0d5271c701f",
   "metadata": {},
   "source": [
    "#### 17. Total Sales by Order Hour"
   ]
  },
  {
   "cell_type": "code",
   "execution_count": null,
   "id": "def21806-00b5-488b-b173-1969778abff5",
   "metadata": {},
   "outputs": [],
   "source": [
    "orders.groupby([\"order_month\", \"order_month_name\", \"order_hour\"])[\"quantity\"].sum()"
   ]
  },
  {
   "cell_type": "markdown",
   "id": "ab0107e4-1c8c-4020-bf3e-9bc3877a8102",
   "metadata": {},
   "source": [
    "#### 18. Total Orders by Order Hour"
   ]
  },
  {
   "cell_type": "code",
   "execution_count": null,
   "id": "8295f98f-de97-404a-82dc-bef0ccb79d30",
   "metadata": {},
   "outputs": [],
   "source": [
    "orders.groupby([\"order_month\", \"order_month_name\", \"order_hour\"])[\"order_id\"].nunique()"
   ]
  },
  {
   "cell_type": "markdown",
   "id": "c26e6fe9-a55b-4c23-abca-f1497e2c1b48",
   "metadata": {},
   "source": [
    "#### 19. Total Revenue by Pizza Name"
   ]
  },
  {
   "cell_type": "code",
   "execution_count": null,
   "id": "2f5c8e34-27b4-4b8a-8a4d-264711653a9e",
   "metadata": {},
   "outputs": [],
   "source": [
    "orders.groupby([\"order_month\", \"order_month_name\", \"pizza_name\"])[\"total_price\"].sum()"
   ]
  },
  {
   "cell_type": "markdown",
   "id": "3138eaf4-fa32-4f0f-ac8d-bcede284c09c",
   "metadata": {},
   "source": [
    "#### 20. Total Sales by Pizza Name"
   ]
  },
  {
   "cell_type": "code",
   "execution_count": null,
   "id": "588870c2-4399-4e0d-a5d2-2ed90fc47cad",
   "metadata": {},
   "outputs": [],
   "source": [
    "orders.groupby([\"order_month\", \"order_month_name\", \"pizza_name\"])[\"quantity\"].sum()"
   ]
  },
  {
   "cell_type": "markdown",
   "id": "0f723918-db6d-4bbe-b079-88a1df4d8244",
   "metadata": {},
   "source": [
    "#### 21. Total Orders by Pizza Name"
   ]
  },
  {
   "cell_type": "code",
   "execution_count": null,
   "id": "0b73161b-d12f-45c5-9779-5b95b733bf03",
   "metadata": {},
   "outputs": [],
   "source": [
    "orders.groupby([\"order_month\", \"order_month_name\", \"pizza_name\"])[\"order_id\"].nunique()"
   ]
  },
  {
   "cell_type": "markdown",
   "id": "83d35705-3e18-4658-b9bb-f35bbb53c3d3",
   "metadata": {},
   "source": [
    "#### 22. Total Revenue by Pizza Size"
   ]
  },
  {
   "cell_type": "code",
   "execution_count": null,
   "id": "f315f175-4773-4726-b454-8cf093033919",
   "metadata": {},
   "outputs": [],
   "source": [
    "orders.groupby([\"order_month\", \"order_month_name\", \"pizza_size\"])[\"total_price\"].sum()"
   ]
  },
  {
   "cell_type": "markdown",
   "id": "449dd341-221a-49c2-b32d-8bf5ea6f7a28",
   "metadata": {},
   "source": [
    "#### 23. Total Sales by Pizza Size"
   ]
  },
  {
   "cell_type": "code",
   "execution_count": null,
   "id": "820b3d60-df50-4936-9f1f-1296c6443a25",
   "metadata": {},
   "outputs": [],
   "source": [
    "orders.groupby([\"order_month\", \"order_month_name\", \"pizza_size\"])[\"quantity\"].sum()"
   ]
  },
  {
   "cell_type": "markdown",
   "id": "b6e76080-62f4-4d5d-aa88-10dbe679a068",
   "metadata": {},
   "source": [
    "#### 24. Total Orders by Pizza Size"
   ]
  },
  {
   "cell_type": "code",
   "execution_count": null,
   "id": "8f8e4fa1-a5bd-4a8b-80e8-a82a895aa928",
   "metadata": {},
   "outputs": [],
   "source": [
    "orders.groupby([\"order_month\", \"order_month_name\", \"pizza_size\"])[\"order_id\"].nunique()"
   ]
  }
 ],
 "metadata": {
  "kernelspec": {
   "display_name": "Python 3 (ipykernel)",
   "language": "python",
   "name": "python3"
  },
  "language_info": {
   "codemirror_mode": {
    "name": "ipython",
    "version": 3
   },
   "file_extension": ".py",
   "mimetype": "text/x-python",
   "name": "python",
   "nbconvert_exporter": "python",
   "pygments_lexer": "ipython3",
   "version": "3.12.4"
  }
 },
 "nbformat": 4,
 "nbformat_minor": 5
}
