{
 "cells": [
  {
   "cell_type": "code",
   "execution_count": null,
   "id": "7ac285ad-f4ff-4989-a50a-44169cabde5d",
   "metadata": {},
   "outputs": [],
   "source": [
    "import numpy as np\n",
    "import pandas as pd\n",
    "import matplotlib.pyplot as plt\n",
    "import seaborn as sns"
   ]
  },
  {
   "cell_type": "code",
   "execution_count": null,
   "id": "a808562b-0b2a-4b73-bf0a-029bff9ee21d",
   "metadata": {},
   "outputs": [],
   "source": [
    "orders = pd.read_excel(\"Pizza Sales Data.xlsx\")"
   ]
  },
  {
   "cell_type": "code",
   "execution_count": null,
   "id": "afd7047d-c9bb-4fcc-a2ac-b6e6848e68ea",
   "metadata": {},
   "outputs": [],
   "source": [
    "orders.head()"
   ]
  },
  {
   "cell_type": "code",
   "execution_count": null,
   "id": "0f465e77-cf93-4f79-a11c-b029717e1f34",
   "metadata": {},
   "outputs": [],
   "source": [
    "orders.info"
   ]
  }
 ],
 "metadata": {
  "kernelspec": {
   "display_name": "Python 3 (ipykernel)",
   "language": "python",
   "name": "python3"
  },
  "language_info": {
   "codemirror_mode": {
    "name": "ipython",
    "version": 3
   },
   "file_extension": ".py",
   "mimetype": "text/x-python",
   "name": "python",
   "nbconvert_exporter": "python",
   "pygments_lexer": "ipython3",
   "version": "3.12.4"
  }
 },
 "nbformat": 4,
 "nbformat_minor": 5
}
