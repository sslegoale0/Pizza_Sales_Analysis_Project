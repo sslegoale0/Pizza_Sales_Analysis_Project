{
 "cells": [
  {
   "cell_type": "markdown",
   "id": "0c91a71e-4ea2-45b2-828e-8333fa059f45",
   "metadata": {},
   "source": [
    "## Pizza Sales Data Cleaning."
   ]
  },
  {
   "cell_type": "markdown",
   "id": "dee60a17-5f52-4cd9-8153-c802862c8148",
   "metadata": {},
   "source": [
    "#### Importing Python libraries for data analysis."
   ]
  },
  {
   "cell_type": "code",
   "execution_count": 3,
   "id": "7ac285ad-f4ff-4989-a50a-44169cabde5d",
   "metadata": {},
   "outputs": [],
   "source": [
    "import numpy as np\n",
    "import pandas as pd\n",
    "import matplotlib.pyplot as plt\n",
    "import seaborn as sns"
   ]
  },
  {
   "cell_type": "markdown",
   "id": "aa53a49a-9f21-49b0-83c8-875ea7ff2afa",
   "metadata": {},
   "source": [
    "#### Importing pizza sales data into Python."
   ]
  },
  {
   "cell_type": "code",
   "execution_count": 5,
   "id": "a808562b-0b2a-4b73-bf0a-029bff9ee21d",
   "metadata": {},
   "outputs": [],
   "source": [
    "orders = pd.read_excel(\"Pizza Sales Data.xlsx\")"
   ]
  },
  {
   "cell_type": "markdown",
   "id": "59b94a41-6a19-493f-b779-ed2fecefd803",
   "metadata": {},
   "source": [
    "#### Selecting top 5 rows in the data."
   ]
  },
  {
   "cell_type": "code",
   "execution_count": 7,
   "id": "afd7047d-c9bb-4fcc-a2ac-b6e6848e68ea",
   "metadata": {},
   "outputs": [
    {
     "data": {
      "text/html": [
       "<div>\n",
       "<style scoped>\n",
       "    .dataframe tbody tr th:only-of-type {\n",
       "        vertical-align: middle;\n",
       "    }\n",
       "\n",
       "    .dataframe tbody tr th {\n",
       "        vertical-align: top;\n",
       "    }\n",
       "\n",
       "    .dataframe thead th {\n",
       "        text-align: right;\n",
       "    }\n",
       "</style>\n",
       "<table border=\"1\" class=\"dataframe\">\n",
       "  <thead>\n",
       "    <tr style=\"text-align: right;\">\n",
       "      <th></th>\n",
       "      <th>pizza_id</th>\n",
       "      <th>order_id</th>\n",
       "      <th>pizza_name_id</th>\n",
       "      <th>quantity</th>\n",
       "      <th>order_date</th>\n",
       "      <th>order_time</th>\n",
       "      <th>unit_price</th>\n",
       "      <th>total_price</th>\n",
       "      <th>pizza_size</th>\n",
       "      <th>pizza_category</th>\n",
       "      <th>pizza_ingredients</th>\n",
       "      <th>pizza_name</th>\n",
       "    </tr>\n",
       "  </thead>\n",
       "  <tbody>\n",
       "    <tr>\n",
       "      <th>0</th>\n",
       "      <td>1</td>\n",
       "      <td>1</td>\n",
       "      <td>hawaiian_m</td>\n",
       "      <td>1</td>\n",
       "      <td>01-01-2015</td>\n",
       "      <td>11:38:36</td>\n",
       "      <td>13.25</td>\n",
       "      <td>13.25</td>\n",
       "      <td>M</td>\n",
       "      <td>Classic</td>\n",
       "      <td>Sliced Ham, Pineapple, Mozzarella Cheese</td>\n",
       "      <td>The Hawaiian Pizza</td>\n",
       "    </tr>\n",
       "    <tr>\n",
       "      <th>1</th>\n",
       "      <td>2</td>\n",
       "      <td>2</td>\n",
       "      <td>classic_dlx_m</td>\n",
       "      <td>1</td>\n",
       "      <td>01-01-2015</td>\n",
       "      <td>11:57:40</td>\n",
       "      <td>16.00</td>\n",
       "      <td>16.00</td>\n",
       "      <td>M</td>\n",
       "      <td>Classic</td>\n",
       "      <td>Pepperoni, Mushrooms, Red Onions, Red Peppers,...</td>\n",
       "      <td>The Classic Deluxe Pizza</td>\n",
       "    </tr>\n",
       "    <tr>\n",
       "      <th>2</th>\n",
       "      <td>3</td>\n",
       "      <td>2</td>\n",
       "      <td>five_cheese_l</td>\n",
       "      <td>1</td>\n",
       "      <td>01-01-2015</td>\n",
       "      <td>11:57:40</td>\n",
       "      <td>18.50</td>\n",
       "      <td>18.50</td>\n",
       "      <td>L</td>\n",
       "      <td>Veggie</td>\n",
       "      <td>Mozzarella Cheese, Provolone Cheese, Smoked Go...</td>\n",
       "      <td>The Five Cheese Pizza</td>\n",
       "    </tr>\n",
       "    <tr>\n",
       "      <th>3</th>\n",
       "      <td>4</td>\n",
       "      <td>2</td>\n",
       "      <td>ital_supr_l</td>\n",
       "      <td>1</td>\n",
       "      <td>01-01-2015</td>\n",
       "      <td>11:57:40</td>\n",
       "      <td>20.75</td>\n",
       "      <td>20.75</td>\n",
       "      <td>L</td>\n",
       "      <td>Supreme</td>\n",
       "      <td>Calabrese Salami, Capocollo, Tomatoes, Red Oni...</td>\n",
       "      <td>The Italian Supreme Pizza</td>\n",
       "    </tr>\n",
       "    <tr>\n",
       "      <th>4</th>\n",
       "      <td>5</td>\n",
       "      <td>2</td>\n",
       "      <td>mexicana_m</td>\n",
       "      <td>1</td>\n",
       "      <td>01-01-2015</td>\n",
       "      <td>11:57:40</td>\n",
       "      <td>16.00</td>\n",
       "      <td>16.00</td>\n",
       "      <td>M</td>\n",
       "      <td>Veggie</td>\n",
       "      <td>Tomatoes, Red Peppers, Jalapeno Peppers, Red O...</td>\n",
       "      <td>The Mexicana Pizza</td>\n",
       "    </tr>\n",
       "  </tbody>\n",
       "</table>\n",
       "</div>"
      ],
      "text/plain": [
       "   pizza_id  order_id  pizza_name_id  quantity  order_date order_time  \\\n",
       "0         1         1     hawaiian_m         1  01-01-2015   11:38:36   \n",
       "1         2         2  classic_dlx_m         1  01-01-2015   11:57:40   \n",
       "2         3         2  five_cheese_l         1  01-01-2015   11:57:40   \n",
       "3         4         2    ital_supr_l         1  01-01-2015   11:57:40   \n",
       "4         5         2     mexicana_m         1  01-01-2015   11:57:40   \n",
       "\n",
       "   unit_price  total_price pizza_size pizza_category  \\\n",
       "0       13.25        13.25          M        Classic   \n",
       "1       16.00        16.00          M        Classic   \n",
       "2       18.50        18.50          L         Veggie   \n",
       "3       20.75        20.75          L        Supreme   \n",
       "4       16.00        16.00          M         Veggie   \n",
       "\n",
       "                                   pizza_ingredients  \\\n",
       "0           Sliced Ham, Pineapple, Mozzarella Cheese   \n",
       "1  Pepperoni, Mushrooms, Red Onions, Red Peppers,...   \n",
       "2  Mozzarella Cheese, Provolone Cheese, Smoked Go...   \n",
       "3  Calabrese Salami, Capocollo, Tomatoes, Red Oni...   \n",
       "4  Tomatoes, Red Peppers, Jalapeno Peppers, Red O...   \n",
       "\n",
       "                  pizza_name  \n",
       "0         The Hawaiian Pizza  \n",
       "1   The Classic Deluxe Pizza  \n",
       "2      The Five Cheese Pizza  \n",
       "3  The Italian Supreme Pizza  \n",
       "4         The Mexicana Pizza  "
      ]
     },
     "execution_count": 7,
     "metadata": {},
     "output_type": "execute_result"
    }
   ],
   "source": [
    "orders.head()"
   ]
  },
  {
   "cell_type": "markdown",
   "id": "90ecac4c-5c4d-4faa-9f0e-50f81dd64ba9",
   "metadata": {},
   "source": [
    "#### Getting info on the data."
   ]
  },
  {
   "cell_type": "code",
   "execution_count": 9,
   "id": "0f465e77-cf93-4f79-a11c-b029717e1f34",
   "metadata": {},
   "outputs": [
    {
     "name": "stdout",
     "output_type": "stream",
     "text": [
      "<class 'pandas.core.frame.DataFrame'>\n",
      "RangeIndex: 48620 entries, 0 to 48619\n",
      "Data columns (total 12 columns):\n",
      " #   Column             Non-Null Count  Dtype  \n",
      "---  ------             --------------  -----  \n",
      " 0   pizza_id           48620 non-null  int64  \n",
      " 1   order_id           48620 non-null  int64  \n",
      " 2   pizza_name_id      48620 non-null  object \n",
      " 3   quantity           48620 non-null  int64  \n",
      " 4   order_date         48620 non-null  object \n",
      " 5   order_time         48620 non-null  object \n",
      " 6   unit_price         48620 non-null  float64\n",
      " 7   total_price        48620 non-null  float64\n",
      " 8   pizza_size         48620 non-null  object \n",
      " 9   pizza_category     48620 non-null  object \n",
      " 10  pizza_ingredients  48620 non-null  object \n",
      " 11  pizza_name         48620 non-null  object \n",
      "dtypes: float64(2), int64(3), object(7)\n",
      "memory usage: 4.5+ MB\n"
     ]
    }
   ],
   "source": [
    "orders.info()"
   ]
  },
  {
   "cell_type": "code",
   "execution_count": 10,
   "id": "bd65f705-f7c4-4644-aee0-61337e7f38f5",
   "metadata": {},
   "outputs": [
    {
     "data": {
      "text/plain": [
       "Index(['pizza_id', 'order_id', 'pizza_name_id', 'quantity', 'order_date',\n",
       "       'order_time', 'unit_price', 'total_price', 'pizza_size',\n",
       "       'pizza_category', 'pizza_ingredients', 'pizza_name'],\n",
       "      dtype='object')"
      ]
     },
     "execution_count": 10,
     "metadata": {},
     "output_type": "execute_result"
    }
   ],
   "source": [
    "orders.columns"
   ]
  },
  {
   "cell_type": "markdown",
   "id": "7e7e6627-de36-4bf6-96a4-332600a220fd",
   "metadata": {},
   "source": [
    "### 1. Removing duplicated rows."
   ]
  },
  {
   "cell_type": "code",
   "execution_count": 12,
   "id": "5d9b1138-690a-4959-9156-513d7f72cbe0",
   "metadata": {},
   "outputs": [
    {
     "data": {
      "text/plain": [
       "0"
      ]
     },
     "execution_count": 12,
     "metadata": {},
     "output_type": "execute_result"
    }
   ],
   "source": [
    "orders.duplicated().sum()"
   ]
  },
  {
   "cell_type": "code",
   "execution_count": 13,
   "id": "08121dc0-6564-4458-aca8-06a9884da8a6",
   "metadata": {},
   "outputs": [
    {
     "data": {
      "text/plain": [
       "48620"
      ]
     },
     "execution_count": 13,
     "metadata": {},
     "output_type": "execute_result"
    }
   ],
   "source": [
    "orders[\"pizza_id\"].nunique()"
   ]
  },
  {
   "cell_type": "code",
   "execution_count": 14,
   "id": "bf1b1b54-db4f-4d1a-b61b-bfd229e120b2",
   "metadata": {},
   "outputs": [
    {
     "data": {
      "text/plain": [
       "0"
      ]
     },
     "execution_count": 14,
     "metadata": {},
     "output_type": "execute_result"
    }
   ],
   "source": [
    "orders.duplicated(subset = ['order_id', 'pizza_name_id', 'quantity', 'order_date',\n",
    "       'order_time', 'unit_price', 'total_price', 'pizza_size',\n",
    "       'pizza_category', 'pizza_ingredients', 'pizza_name']).sum()"
   ]
  },
  {
   "cell_type": "markdown",
   "id": "58a2caa1-53dc-4aca-979d-bc4046e26395",
   "metadata": {},
   "source": [
    "### 2. Data formatting & standardisation."
   ]
  },
  {
   "cell_type": "code",
   "execution_count": 16,
   "id": "09607705-8a11-41da-a6d8-3a5c69b8c4ee",
   "metadata": {},
   "outputs": [
    {
     "data": {
      "text/plain": [
       "array([    1,     2,     3, ..., 21348, 21349, 21350], dtype=int64)"
      ]
     },
     "execution_count": 16,
     "metadata": {},
     "output_type": "execute_result"
    }
   ],
   "source": [
    "orders[\"order_id\"].sort_values().unique()"
   ]
  },
  {
   "cell_type": "code",
   "execution_count": 17,
   "id": "a8d7c299-5221-4734-930d-1ec5bf8da559",
   "metadata": {},
   "outputs": [
    {
     "data": {
      "text/plain": [
       "array(['bbq_ckn_l', 'bbq_ckn_m', 'bbq_ckn_s', 'big_meat_s',\n",
       "       'brie_carre_s', 'calabrese_l', 'calabrese_m', 'calabrese_s',\n",
       "       'cali_ckn_l', 'cali_ckn_m', 'cali_ckn_s', 'ckn_alfredo_l',\n",
       "       'ckn_alfredo_m', 'ckn_alfredo_s', 'ckn_pesto_l', 'ckn_pesto_m',\n",
       "       'ckn_pesto_s', 'classic_dlx_l', 'classic_dlx_m', 'classic_dlx_s',\n",
       "       'five_cheese_l', 'four_cheese_l', 'four_cheese_m',\n",
       "       'green_garden_l', 'green_garden_m', 'green_garden_s', 'hawaiian_l',\n",
       "       'hawaiian_m', 'hawaiian_s', 'ital_cpcllo_l', 'ital_cpcllo_m',\n",
       "       'ital_cpcllo_s', 'ital_supr_l', 'ital_supr_m', 'ital_supr_s',\n",
       "       'ital_veggie_l', 'ital_veggie_m', 'ital_veggie_s',\n",
       "       'mediterraneo_l', 'mediterraneo_m', 'mediterraneo_s', 'mexicana_l',\n",
       "       'mexicana_m', 'mexicana_s', 'napolitana_l', 'napolitana_m',\n",
       "       'napolitana_s', 'pep_msh_pep_l', 'pep_msh_pep_m', 'pep_msh_pep_s',\n",
       "       'pepperoni_l', 'pepperoni_m', 'pepperoni_s', 'peppr_salami_l',\n",
       "       'peppr_salami_m', 'peppr_salami_s', 'prsc_argla_l', 'prsc_argla_m',\n",
       "       'prsc_argla_s', 'sicilian_l', 'sicilian_m', 'sicilian_s',\n",
       "       'soppressata_l', 'soppressata_m', 'soppressata_s', 'southw_ckn_l',\n",
       "       'southw_ckn_m', 'southw_ckn_s', 'spicy_ital_l', 'spicy_ital_m',\n",
       "       'spicy_ital_s', 'spin_pesto_l', 'spin_pesto_m', 'spin_pesto_s',\n",
       "       'spinach_fet_l', 'spinach_fet_m', 'spinach_fet_s',\n",
       "       'spinach_supr_l', 'spinach_supr_m', 'spinach_supr_s', 'thai_ckn_l',\n",
       "       'thai_ckn_m', 'thai_ckn_s', 'the_greek_l', 'the_greek_m',\n",
       "       'the_greek_s', 'the_greek_xl', 'the_greek_xxl', 'veggie_veg_l',\n",
       "       'veggie_veg_m', 'veggie_veg_s'], dtype=object)"
      ]
     },
     "execution_count": 17,
     "metadata": {},
     "output_type": "execute_result"
    }
   ],
   "source": [
    "orders[\"pizza_name_id\"].sort_values().unique()"
   ]
  },
  {
   "cell_type": "code",
   "execution_count": 18,
   "id": "3c37e946-e0fe-4a34-8646-3d518b7b4c24",
   "metadata": {},
   "outputs": [
    {
     "data": {
      "text/plain": [
       "array([1, 2, 3, 4], dtype=int64)"
      ]
     },
     "execution_count": 18,
     "metadata": {},
     "output_type": "execute_result"
    }
   ],
   "source": [
    "orders[\"quantity\"].sort_values().unique()"
   ]
  },
  {
   "cell_type": "code",
   "execution_count": 19,
   "id": "904493fe-58a0-4d9b-a597-63a461823b9b",
   "metadata": {},
   "outputs": [
    {
     "data": {
      "text/plain": [
       "array(['01-01-2015', '01-02-2015', '01-03-2015', '01-04-2015',\n",
       "       '01-05-2015', '01-06-2015', '01-07-2015', '01-08-2015',\n",
       "       '01-09-2015', '01-10-2015', '01-11-2015', '01-12-2015',\n",
       "       '02-01-2015', '02-02-2015', '02-03-2015', '02-04-2015',\n",
       "       '02-05-2015', '02-06-2015', '02-07-2015', '02-08-2015',\n",
       "       '02-09-2015', '02-10-2015', '02-11-2015', '02-12-2015',\n",
       "       '03-01-2015', '03-02-2015', '03-03-2015', '03-04-2015',\n",
       "       '03-05-2015', '03-06-2015', '03-07-2015', '03-08-2015',\n",
       "       '03-09-2015', '03-10-2015', '03-11-2015', '03-12-2015',\n",
       "       '04-01-2015', '04-02-2015', '04-03-2015', '04-04-2015',\n",
       "       '04-05-2015', '04-06-2015', '04-07-2015', '04-08-2015',\n",
       "       '04-09-2015', '04-10-2015', '04-11-2015', '04-12-2015',\n",
       "       '05-01-2015', '05-02-2015', '05-03-2015', '05-04-2015',\n",
       "       '05-05-2015', '05-06-2015', '05-07-2015', '05-08-2015',\n",
       "       '05-09-2015', '05-11-2015', '05-12-2015', '06-01-2015',\n",
       "       '06-02-2015', '06-03-2015', '06-04-2015', '06-05-2015',\n",
       "       '06-06-2015', '06-07-2015', '06-08-2015', '06-09-2015',\n",
       "       '06-10-2015', '06-11-2015', '06-12-2015', '07-01-2015',\n",
       "       '07-02-2015', '07-03-2015', '07-04-2015', '07-05-2015',\n",
       "       '07-06-2015', '07-07-2015', '07-08-2015', '07-09-2015',\n",
       "       '07-10-2015', '07-11-2015', '07-12-2015', '08-01-2015',\n",
       "       '08-02-2015', '08-03-2015', '08-04-2015', '08-05-2015',\n",
       "       '08-06-2015', '08-07-2015', '08-08-2015', '08-09-2015',\n",
       "       '08-10-2015', '08-11-2015', '08-12-2015', '09-01-2015',\n",
       "       '09-02-2015', '09-03-2015', '09-04-2015', '09-05-2015',\n",
       "       '09-06-2015', '09-07-2015', '09-08-2015', '09-09-2015',\n",
       "       '09-10-2015', '09-11-2015', '09-12-2015', '10-01-2015',\n",
       "       '10-02-2015', '10-03-2015', '10-04-2015', '10-05-2015',\n",
       "       '10-06-2015', '10-07-2015', '10-08-2015', '10-09-2015',\n",
       "       '10-10-2015', '10-11-2015', '10-12-2015', '11-01-2015',\n",
       "       '11-02-2015', '11-03-2015', '11-04-2015', '11-05-2015',\n",
       "       '11-06-2015', '11-07-2015', '11-08-2015', '11-09-2015',\n",
       "       '11-10-2015', '11-11-2015', '11-12-2015', '12-01-2015',\n",
       "       '12-02-2015', '12-03-2015', '12-04-2015', '12-05-2015',\n",
       "       '12-06-2015', '12-07-2015', '12-08-2015', '12-09-2015',\n",
       "       '12-11-2015', '12-12-2015', '13-01-2015', '13-02-2015',\n",
       "       '13-03-2015', '13-04-2015', '13-05-2015', '13-06-2015',\n",
       "       '13-07-2015', '13-08-2015', '13-09-2015', '13-10-2015',\n",
       "       '13-11-2015', '13-12-2015', '14-01-2015', '14-02-2015',\n",
       "       '14-03-2015', '14-04-2015', '14-05-2015', '14-06-2015',\n",
       "       '14-07-2015', '14-08-2015', '14-09-2015', '14-10-2015',\n",
       "       '14-11-2015', '14-12-2015', '15-01-2015', '15-02-2015',\n",
       "       '15-03-2015', '15-04-2015', '15-05-2015', '15-06-2015',\n",
       "       '15-07-2015', '15-08-2015', '15-09-2015', '15-10-2015',\n",
       "       '15-11-2015', '15-12-2015', '16-01-2015', '16-02-2015',\n",
       "       '16-03-2015', '16-04-2015', '16-05-2015', '16-06-2015',\n",
       "       '16-07-2015', '16-08-2015', '16-09-2015', '16-10-2015',\n",
       "       '16-11-2015', '16-12-2015', '17-01-2015', '17-02-2015',\n",
       "       '17-03-2015', '17-04-2015', '17-05-2015', '17-06-2015',\n",
       "       '17-07-2015', '17-08-2015', '17-09-2015', '17-10-2015',\n",
       "       '17-11-2015', '17-12-2015', '18-01-2015', '18-02-2015',\n",
       "       '18-03-2015', '18-04-2015', '18-05-2015', '18-06-2015',\n",
       "       '18-07-2015', '18-08-2015', '18-09-2015', '18-10-2015',\n",
       "       '18-11-2015', '18-12-2015', '19-01-2015', '19-02-2015',\n",
       "       '19-03-2015', '19-04-2015', '19-05-2015', '19-06-2015',\n",
       "       '19-07-2015', '19-08-2015', '19-09-2015', '19-11-2015',\n",
       "       '19-12-2015', '20-01-2015', '20-02-2015', '20-03-2015',\n",
       "       '20-04-2015', '20-05-2015', '20-06-2015', '20-07-2015',\n",
       "       '20-08-2015', '20-09-2015', '20-10-2015', '20-11-2015',\n",
       "       '20-12-2015', '21-01-2015', '21-02-2015', '21-03-2015',\n",
       "       '21-04-2015', '21-05-2015', '21-06-2015', '21-07-2015',\n",
       "       '21-08-2015', '21-09-2015', '21-10-2015', '21-11-2015',\n",
       "       '21-12-2015', '22-01-2015', '22-02-2015', '22-03-2015',\n",
       "       '22-04-2015', '22-05-2015', '22-06-2015', '22-07-2015',\n",
       "       '22-08-2015', '22-09-2015', '22-10-2015', '22-11-2015',\n",
       "       '22-12-2015', '23-01-2015', '23-02-2015', '23-03-2015',\n",
       "       '23-04-2015', '23-05-2015', '23-06-2015', '23-07-2015',\n",
       "       '23-08-2015', '23-09-2015', '23-10-2015', '23-11-2015',\n",
       "       '23-12-2015', '24-01-2015', '24-02-2015', '24-03-2015',\n",
       "       '24-04-2015', '24-05-2015', '24-06-2015', '24-07-2015',\n",
       "       '24-08-2015', '24-10-2015', '24-11-2015', '24-12-2015',\n",
       "       '25-01-2015', '25-02-2015', '25-03-2015', '25-04-2015',\n",
       "       '25-05-2015', '25-06-2015', '25-07-2015', '25-08-2015',\n",
       "       '25-10-2015', '25-11-2015', '26-01-2015', '26-02-2015',\n",
       "       '26-03-2015', '26-04-2015', '26-05-2015', '26-06-2015',\n",
       "       '26-07-2015', '26-08-2015', '26-09-2015', '26-11-2015',\n",
       "       '26-12-2015', '27-01-2015', '27-02-2015', '27-03-2015',\n",
       "       '27-04-2015', '27-05-2015', '27-06-2015', '27-07-2015',\n",
       "       '27-08-2015', '27-09-2015', '27-10-2015', '27-11-2015',\n",
       "       '27-12-2015', '28-01-2015', '28-02-2015', '28-03-2015',\n",
       "       '28-04-2015', '28-05-2015', '28-06-2015', '28-07-2015',\n",
       "       '28-08-2015', '28-09-2015', '28-10-2015', '28-11-2015',\n",
       "       '28-12-2015', '29-01-2015', '29-03-2015', '29-04-2015',\n",
       "       '29-05-2015', '29-06-2015', '29-07-2015', '29-08-2015',\n",
       "       '29-09-2015', '29-10-2015', '29-11-2015', '29-12-2015',\n",
       "       '30-01-2015', '30-03-2015', '30-04-2015', '30-05-2015',\n",
       "       '30-06-2015', '30-07-2015', '30-08-2015', '30-09-2015',\n",
       "       '30-10-2015', '30-11-2015', '30-12-2015', '31-01-2015',\n",
       "       '31-03-2015', '31-05-2015', '31-07-2015', '31-08-2015',\n",
       "       '31-10-2015', '31-12-2015'], dtype=object)"
      ]
     },
     "execution_count": 19,
     "metadata": {},
     "output_type": "execute_result"
    }
   ],
   "source": [
    "orders[\"order_date\"].sort_values().unique()"
   ]
  },
  {
   "cell_type": "code",
   "execution_count": 20,
   "id": "fdb18c8c-6b43-4b16-9266-f6977c602f1c",
   "metadata": {},
   "outputs": [
    {
     "data": {
      "text/plain": [
       "array([datetime.time(9, 52, 21), datetime.time(10, 25, 19),\n",
       "       datetime.time(10, 34, 34), ..., datetime.time(23, 5, 17),\n",
       "       datetime.time(23, 5, 24), datetime.time(23, 5, 52)], dtype=object)"
      ]
     },
     "execution_count": 20,
     "metadata": {},
     "output_type": "execute_result"
    }
   ],
   "source": [
    "orders[\"order_time\"].sort_values().unique()"
   ]
  },
  {
   "cell_type": "code",
   "execution_count": 21,
   "id": "33528eaf-86ae-4275-a0ce-5e36264b1e98",
   "metadata": {},
   "outputs": [],
   "source": [
    "orders[\"order_datetime\"] = pd.to_datetime(orders[\"order_date\"] + \" \" + orders[\"order_time\"].astype(str), format=\"%d-%m-%Y %H:%M:%S\")"
   ]
  },
  {
   "cell_type": "code",
   "execution_count": 22,
   "id": "85755461-7229-47e1-86fc-0b080d58804a",
   "metadata": {},
   "outputs": [
    {
     "data": {
      "text/plain": [
       "0       2015-01-01 11:38:36\n",
       "1       2015-01-01 11:57:40\n",
       "2       2015-01-01 11:57:40\n",
       "3       2015-01-01 11:57:40\n",
       "4       2015-01-01 11:57:40\n",
       "                ...        \n",
       "48615   2015-12-31 21:23:10\n",
       "48616   2015-12-31 21:23:10\n",
       "48617   2015-12-31 21:23:10\n",
       "48618   2015-12-31 22:09:54\n",
       "48619   2015-12-31 23:02:05\n",
       "Name: order_datetime, Length: 48620, dtype: datetime64[ns]"
      ]
     },
     "execution_count": 22,
     "metadata": {},
     "output_type": "execute_result"
    }
   ],
   "source": [
    "orders[\"order_datetime\"]"
   ]
  },
  {
   "cell_type": "code",
   "execution_count": 23,
   "id": "8f4f58dd-e171-4a3d-966f-cc1cbc851714",
   "metadata": {},
   "outputs": [
    {
     "data": {
      "text/plain": [
       "array([ 9.75, 10.5 , 11.  , 12.  , 12.25, 12.5 , 12.75, 13.25, 14.5 ,\n",
       "       14.75, 15.25, 16.  , 16.25, 16.5 , 16.75, 17.5 , 17.95, 18.5 ,\n",
       "       20.25, 20.5 , 20.75, 21.  , 23.65, 25.5 , 35.95])"
      ]
     },
     "execution_count": 23,
     "metadata": {},
     "output_type": "execute_result"
    }
   ],
   "source": [
    "orders[\"unit_price\"].sort_values().unique()"
   ]
  },
  {
   "cell_type": "code",
   "execution_count": 24,
   "id": "b005662a-e4b7-4914-a342-5c96dbddfa9a",
   "metadata": {},
   "outputs": [
    {
     "data": {
      "text/plain": [
       "array([ 9.75, 10.5 , 11.  , 12.  , 12.25, 12.5 , 12.75, 13.25, 14.5 ,\n",
       "       14.75, 15.25, 16.  , 16.25, 16.5 , 16.75, 17.5 , 17.95, 18.5 ,\n",
       "       19.5 , 20.25, 20.5 , 20.75, 21.  , 22.  , 23.65, 24.  , 24.5 ,\n",
       "       25.  , 25.5 , 26.5 , 29.  , 29.5 , 30.5 , 32.  , 32.5 , 33.  ,\n",
       "       33.5 , 35.  , 35.9 , 35.95, 36.  , 37.  , 37.5 , 40.5 , 41.  ,\n",
       "       41.5 , 47.3 , 48.  , 48.75, 49.5 , 50.25, 51.  , 55.5 , 61.5 ,\n",
       "       62.25, 83.  ])"
      ]
     },
     "execution_count": 24,
     "metadata": {},
     "output_type": "execute_result"
    }
   ],
   "source": [
    "orders[\"total_price\"].sort_values().unique()"
   ]
  },
  {
   "cell_type": "code",
   "execution_count": 25,
   "id": "3d906102-442f-46d7-a611-a2311dc16f61",
   "metadata": {},
   "outputs": [
    {
     "data": {
      "text/plain": [
       "array(['L', 'M', 'S', 'XL', 'XXL'], dtype=object)"
      ]
     },
     "execution_count": 25,
     "metadata": {},
     "output_type": "execute_result"
    }
   ],
   "source": [
    "orders[\"pizza_size\"].sort_values().unique()"
   ]
  },
  {
   "cell_type": "code",
   "execution_count": 26,
   "id": "fb498bed-92db-412b-b00b-5e1e67fd0618",
   "metadata": {},
   "outputs": [
    {
     "data": {
      "text/plain": [
       "array(['Chicken', 'Classic', 'Supreme', 'Veggie'], dtype=object)"
      ]
     },
     "execution_count": 26,
     "metadata": {},
     "output_type": "execute_result"
    }
   ],
   "source": [
    "orders[\"pizza_category\"].sort_values().unique()"
   ]
  },
  {
   "cell_type": "code",
   "execution_count": 27,
   "id": "e29c6ab5-982f-41a1-8ac2-6c2cf372c6c4",
   "metadata": {},
   "outputs": [
    {
     "data": {
      "text/plain": [
       "array(['?duja Salami, Pancetta, Tomatoes, Red Onions, Friggitello Peppers, Garlic',\n",
       "       'Bacon, Pepperoni, Italian Sausage, Chorizo Sausage',\n",
       "       'Barbecued Chicken, Red Peppers, Green Peppers, Tomatoes, Red Onions, Barbecue Sauce',\n",
       "       'Brie Carre Cheese, Prosciutto, Caramelized Onions, Pears, Thyme, Garlic',\n",
       "       'Calabrese Salami, Capocollo, Tomatoes, Red Onions, Green Olives, Garlic',\n",
       "       'Capocollo, Red Peppers, Tomatoes, Goat Cheese, Garlic, Oregano',\n",
       "       'Capocollo, Tomatoes, Goat Cheese, Artichokes, Peperoncini verdi, Garlic',\n",
       "       'Chicken, Artichoke, Spinach, Garlic, Jalapeno Peppers, Fontina Cheese, Gouda Cheese',\n",
       "       'Chicken, Pineapple, Tomatoes, Red Peppers, Thai Sweet Chilli Sauce',\n",
       "       'Chicken, Red Onions, Red Peppers, Mushrooms, Asiago Cheese, Alfredo Sauce',\n",
       "       'Chicken, Tomatoes, Red Peppers, Red Onions, Jalapeno Peppers, Corn, Cilantro, Chipotle Sauce',\n",
       "       'Chicken, Tomatoes, Red Peppers, Spinach, Garlic, Pesto Sauce',\n",
       "       'Coarse Sicilian Salami, Tomatoes, Green Olives, Luganega Sausage, Onions, Garlic',\n",
       "       'Eggplant, Artichokes, Tomatoes, Zucchini, Red Peppers, Garlic, Pesto Sauce',\n",
       "       'Genoa Salami, Capocollo, Pepperoni, Tomatoes, Asiago Cheese, Garlic',\n",
       "       'Kalamata Olives, Feta Cheese, Tomatoes, Garlic, Beef Chuck Roast, Red Onions',\n",
       "       'Mozzarella Cheese, Pepperoni',\n",
       "       'Mozzarella Cheese, Provolone Cheese, Smoked Gouda Cheese, Romano Cheese, Blue Cheese, Garlic',\n",
       "       'Mushrooms, Tomatoes, Red Peppers, Green Peppers, Red Onions, Zucchini, Spinach, Garlic',\n",
       "       'Pepperoni, Mushrooms, Green Peppers',\n",
       "       'Pepperoni, Mushrooms, Red Onions, Red Peppers, Bacon',\n",
       "       'Prosciutto di San Daniele, Arugula, Mozzarella Cheese',\n",
       "       'Ricotta Cheese, Gorgonzola Piccante Cheese, Mozzarella Cheese, Parmigiano Reggiano Cheese, Garlic',\n",
       "       'Sliced Ham, Pineapple, Mozzarella Cheese',\n",
       "       'Soppressata Salami, Fontina Cheese, Mozzarella Cheese, Mushrooms, Garlic',\n",
       "       'Spinach, Artichokes, Kalamata Olives, Sun-dried Tomatoes, Feta Cheese, Plum Tomatoes, Red Onions',\n",
       "       'Spinach, Artichokes, Tomatoes, Sun-dried Tomatoes, Garlic, Pesto Sauce',\n",
       "       'Spinach, Mushrooms, Red Onions, Feta Cheese, Garlic',\n",
       "       'Spinach, Mushrooms, Tomatoes, Green Olives, Feta Cheese',\n",
       "       'Spinach, Red Onions, Pepperoni, Tomatoes, Artichokes, Kalamata Olives, Garlic, Asiago Cheese',\n",
       "       'Tomatoes, Anchovies, Green Olives, Red Onions, Garlic',\n",
       "       'Tomatoes, Red Peppers, Jalapeno Peppers, Red Onions, Cilantro, Corn, Chipotle Sauce, Garlic'],\n",
       "      dtype=object)"
      ]
     },
     "execution_count": 27,
     "metadata": {},
     "output_type": "execute_result"
    }
   ],
   "source": [
    "orders[\"pizza_ingredients\"].sort_values().unique()"
   ]
  },
  {
   "cell_type": "code",
   "execution_count": 28,
   "id": "1820825c-4495-4263-aa97-c117d5c1ed65",
   "metadata": {},
   "outputs": [],
   "source": [
    "orders[\"pizza_ingredients\"] = orders[\"pizza_ingredients\"].str.replace(\"?\",\"N\")"
   ]
  },
  {
   "cell_type": "code",
   "execution_count": 29,
   "id": "bce63404-ef83-4b7e-ba0c-513c13855d3c",
   "metadata": {},
   "outputs": [
    {
     "data": {
      "text/plain": [
       "array(['The Barbecue Chicken Pizza', 'The Big Meat Pizza',\n",
       "       'The Brie Carre Pizza', 'The Calabrese Pizza',\n",
       "       'The California Chicken Pizza', 'The Chicken Alfredo Pizza',\n",
       "       'The Chicken Pesto Pizza', 'The Classic Deluxe Pizza',\n",
       "       'The Five Cheese Pizza', 'The Four Cheese Pizza',\n",
       "       'The Greek Pizza', 'The Green Garden Pizza', 'The Hawaiian Pizza',\n",
       "       'The Italian Capocollo Pizza', 'The Italian Supreme Pizza',\n",
       "       'The Italian Vegetables Pizza', 'The Mediterranean Pizza',\n",
       "       'The Mexicana Pizza', 'The Napolitana Pizza',\n",
       "       'The Pepper Salami Pizza', 'The Pepperoni Pizza',\n",
       "       'The Pepperoni, Mushroom, and Peppers Pizza',\n",
       "       'The Prosciutto and Arugula Pizza', 'The Sicilian Pizza',\n",
       "       'The Soppressata Pizza', 'The Southwest Chicken Pizza',\n",
       "       'The Spicy Italian Pizza', 'The Spinach Pesto Pizza',\n",
       "       'The Spinach Supreme Pizza', 'The Spinach and Feta Pizza',\n",
       "       'The Thai Chicken Pizza', 'The Vegetables + Vegetables Pizza'],\n",
       "      dtype=object)"
      ]
     },
     "execution_count": 29,
     "metadata": {},
     "output_type": "execute_result"
    }
   ],
   "source": [
    "orders[\"pizza_name\"].sort_values().unique()"
   ]
  },
  {
   "cell_type": "markdown",
   "id": "8e75bb28-d584-4623-850d-cea4a92ec41d",
   "metadata": {},
   "source": [
    "### 3. Imputation of blank/null values"
   ]
  },
  {
   "cell_type": "code",
   "execution_count": 31,
   "id": "78965cb4-48d2-4f25-834c-6407a408630d",
   "metadata": {},
   "outputs": [
    {
     "data": {
      "text/plain": [
       "pizza_id             0\n",
       "order_id             0\n",
       "pizza_name_id        0\n",
       "quantity             0\n",
       "order_date           0\n",
       "order_time           0\n",
       "unit_price           0\n",
       "total_price          0\n",
       "pizza_size           0\n",
       "pizza_category       0\n",
       "pizza_ingredients    0\n",
       "pizza_name           0\n",
       "order_datetime       0\n",
       "dtype: int64"
      ]
     },
     "execution_count": 31,
     "metadata": {},
     "output_type": "execute_result"
    }
   ],
   "source": [
    "orders.isna().sum()"
   ]
  },
  {
   "cell_type": "markdown",
   "id": "a648c50d-a0ef-4c10-b7c4-d2b297f2da28",
   "metadata": {},
   "source": [
    "## Pizza Sales Data Analysis."
   ]
  },
  {
   "cell_type": "markdown",
   "id": "3d10f52e-8f08-46db-b4f3-b2d8d8e08a8d",
   "metadata": {},
   "source": [
    "#### 1. Total Revenue"
   ]
  },
  {
   "cell_type": "code",
   "execution_count": 34,
   "id": "c24e786a-4d8c-476e-a9f9-c87bfd4a4df5",
   "metadata": {},
   "outputs": [
    {
     "data": {
      "text/plain": [
       "817860.05"
      ]
     },
     "execution_count": 34,
     "metadata": {},
     "output_type": "execute_result"
    }
   ],
   "source": [
    "orders[\"total_price\"].sum()"
   ]
  },
  {
   "cell_type": "markdown",
   "id": "7abb1db2-6998-4a72-a6a3-421bb82adcc2",
   "metadata": {},
   "source": [
    "#### 2. Total Sales"
   ]
  },
  {
   "cell_type": "code",
   "execution_count": 36,
   "id": "8a187b41-d116-403e-81ef-5ea2cc6c0825",
   "metadata": {},
   "outputs": [
    {
     "data": {
      "text/plain": [
       "49574"
      ]
     },
     "execution_count": 36,
     "metadata": {},
     "output_type": "execute_result"
    }
   ],
   "source": [
    "orders[\"quantity\"].sum()"
   ]
  },
  {
   "cell_type": "markdown",
   "id": "90bbb316-5fcb-4f3e-a47f-f0f7d6509716",
   "metadata": {},
   "source": [
    "#### 3. Total Orders"
   ]
  },
  {
   "cell_type": "code",
   "execution_count": 38,
   "id": "d14ef306-87d5-4362-9251-7c71b76f2eac",
   "metadata": {},
   "outputs": [
    {
     "data": {
      "text/plain": [
       "21350"
      ]
     },
     "execution_count": 38,
     "metadata": {},
     "output_type": "execute_result"
    }
   ],
   "source": [
    "orders[\"order_id\"].nunique()"
   ]
  },
  {
   "cell_type": "markdown",
   "id": "81cbd613-45cc-43f6-81b0-75f1ba792a96",
   "metadata": {},
   "source": [
    "#### 4. Average Order Value"
   ]
  },
  {
   "cell_type": "code",
   "execution_count": 40,
   "id": "a20186bf-5577-4013-8e36-af1682b55220",
   "metadata": {},
   "outputs": [
    {
     "data": {
      "text/plain": [
       "38.31"
      ]
     },
     "execution_count": 40,
     "metadata": {},
     "output_type": "execute_result"
    }
   ],
   "source": [
    "(orders[\"total_price\"].sum()/orders[\"order_id\"].nunique()).round(2)"
   ]
  },
  {
   "cell_type": "markdown",
   "id": "72969fb6-c76f-4e23-9d4f-f5baa30f00e3",
   "metadata": {},
   "source": [
    "#### 5. Average Pizza Price"
   ]
  },
  {
   "cell_type": "code",
   "execution_count": 42,
   "id": "ca9684f3-ad55-413b-998d-86fc7decd6de",
   "metadata": {},
   "outputs": [
    {
     "data": {
      "text/plain": [
       "16.5"
      ]
     },
     "execution_count": 42,
     "metadata": {},
     "output_type": "execute_result"
    }
   ],
   "source": [
    "(orders[\"total_price\"].sum()/orders[\"quantity\"].sum()).round(2)"
   ]
  },
  {
   "cell_type": "markdown",
   "id": "41db725a-3636-47de-a6f6-ace311c3dd23",
   "metadata": {},
   "source": [
    "#### 6. Average Pizzas per Order"
   ]
  },
  {
   "cell_type": "code",
   "execution_count": 44,
   "id": "d777dfb3-fd81-4d0e-b374-397dd998ddb6",
   "metadata": {},
   "outputs": [
    {
     "data": {
      "text/plain": [
       "2.32"
      ]
     },
     "execution_count": 44,
     "metadata": {},
     "output_type": "execute_result"
    }
   ],
   "source": [
    "(orders[\"quantity\"].sum()/orders[\"order_id\"].nunique()).round(2)"
   ]
  },
  {
   "cell_type": "code",
   "execution_count": null,
   "id": "8be1a5bc-1e8c-4306-8863-526249870633",
   "metadata": {},
   "outputs": [],
   "source": []
  }
 ],
 "metadata": {
  "kernelspec": {
   "display_name": "Python 3 (ipykernel)",
   "language": "python",
   "name": "python3"
  },
  "language_info": {
   "codemirror_mode": {
    "name": "ipython",
    "version": 3
   },
   "file_extension": ".py",
   "mimetype": "text/x-python",
   "name": "python",
   "nbconvert_exporter": "python",
   "pygments_lexer": "ipython3",
   "version": "3.12.4"
  }
 },
 "nbformat": 4,
 "nbformat_minor": 5
}
