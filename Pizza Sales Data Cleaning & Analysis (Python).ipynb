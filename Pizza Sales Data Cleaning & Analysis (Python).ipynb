{
 "cells": [
  {
   "cell_type": "markdown",
   "id": "0c91a71e-4ea2-45b2-828e-8333fa059f45",
   "metadata": {},
   "source": [
    "## Pizza Sales Data Cleaning."
   ]
  },
  {
   "cell_type": "markdown",
   "id": "dee60a17-5f52-4cd9-8153-c802862c8148",
   "metadata": {},
   "source": [
    "#### Importing Python libraries for data analysis."
   ]
  },
  {
   "cell_type": "code",
   "execution_count": null,
   "id": "7ac285ad-f4ff-4989-a50a-44169cabde5d",
   "metadata": {},
   "outputs": [],
   "source": [
    "import numpy as np\n",
    "import pandas as pd\n",
    "import matplotlib.pyplot as plt\n",
    "import seaborn as sns"
   ]
  },
  {
   "cell_type": "markdown",
   "id": "aa53a49a-9f21-49b0-83c8-875ea7ff2afa",
   "metadata": {},
   "source": [
    "#### Importing pizza sales data into Python."
   ]
  },
  {
   "cell_type": "code",
   "execution_count": null,
   "id": "a808562b-0b2a-4b73-bf0a-029bff9ee21d",
   "metadata": {},
   "outputs": [],
   "source": [
    "orders = pd.read_excel(\"Pizza Sales Data.xlsx\")"
   ]
  },
  {
   "cell_type": "markdown",
   "id": "59b94a41-6a19-493f-b779-ed2fecefd803",
   "metadata": {},
   "source": [
    "#### Selecting top 5 rows in the data."
   ]
  },
  {
   "cell_type": "code",
   "execution_count": null,
   "id": "afd7047d-c9bb-4fcc-a2ac-b6e6848e68ea",
   "metadata": {},
   "outputs": [],
   "source": [
    "orders.head()"
   ]
  },
  {
   "cell_type": "markdown",
   "id": "90ecac4c-5c4d-4faa-9f0e-50f81dd64ba9",
   "metadata": {},
   "source": [
    "#### Getting info on the data."
   ]
  },
  {
   "cell_type": "code",
   "execution_count": null,
   "id": "0f465e77-cf93-4f79-a11c-b029717e1f34",
   "metadata": {},
   "outputs": [],
   "source": [
    "orders.info()"
   ]
  },
  {
   "cell_type": "code",
   "execution_count": null,
   "id": "bd65f705-f7c4-4644-aee0-61337e7f38f5",
   "metadata": {},
   "outputs": [],
   "source": [
    "orders.columns"
   ]
  },
  {
   "cell_type": "markdown",
   "id": "7e7e6627-de36-4bf6-96a4-332600a220fd",
   "metadata": {},
   "source": [
    "### 1. Removing duplicated rows."
   ]
  },
  {
   "cell_type": "code",
   "execution_count": null,
   "id": "5d9b1138-690a-4959-9156-513d7f72cbe0",
   "metadata": {},
   "outputs": [],
   "source": [
    "orders.duplicated().sum()"
   ]
  },
  {
   "cell_type": "code",
   "execution_count": null,
   "id": "08121dc0-6564-4458-aca8-06a9884da8a6",
   "metadata": {},
   "outputs": [],
   "source": [
    "orders[\"pizza_id\"].nunique()"
   ]
  },
  {
   "cell_type": "code",
   "execution_count": null,
   "id": "bf1b1b54-db4f-4d1a-b61b-bfd229e120b2",
   "metadata": {},
   "outputs": [],
   "source": [
    "orders.duplicated(subset = ['order_id', 'pizza_name_id', 'quantity', 'order_date',\n",
    "       'order_time', 'unit_price', 'total_price', 'pizza_size',\n",
    "       'pizza_category', 'pizza_ingredients', 'pizza_name']).sum()"
   ]
  },
  {
   "cell_type": "markdown",
   "id": "58a2caa1-53dc-4aca-979d-bc4046e26395",
   "metadata": {},
   "source": [
    "### 2. Data formatting & standardisation."
   ]
  },
  {
   "cell_type": "code",
   "execution_count": null,
   "id": "09607705-8a11-41da-a6d8-3a5c69b8c4ee",
   "metadata": {},
   "outputs": [],
   "source": [
    "orders[\"order_id\"].sort_values().unique()"
   ]
  },
  {
   "cell_type": "code",
   "execution_count": null,
   "id": "a8d7c299-5221-4734-930d-1ec5bf8da559",
   "metadata": {},
   "outputs": [],
   "source": [
    "orders[\"pizza_name_id\"].sort_values().unique()"
   ]
  },
  {
   "cell_type": "code",
   "execution_count": null,
   "id": "3c37e946-e0fe-4a34-8646-3d518b7b4c24",
   "metadata": {},
   "outputs": [],
   "source": [
    "orders[\"quantity\"].sort_values().unique()"
   ]
  },
  {
   "cell_type": "code",
   "execution_count": null,
   "id": "904493fe-58a0-4d9b-a597-63a461823b9b",
   "metadata": {},
   "outputs": [],
   "source": [
    "orders[\"order_date\"].sort_values().unique()"
   ]
  },
  {
   "cell_type": "code",
   "execution_count": null,
   "id": "fdb18c8c-6b43-4b16-9266-f6977c602f1c",
   "metadata": {},
   "outputs": [],
   "source": [
    "orders[\"order_time\"].sort_values().unique()"
   ]
  },
  {
   "cell_type": "code",
   "execution_count": null,
   "id": "33528eaf-86ae-4275-a0ce-5e36264b1e98",
   "metadata": {},
   "outputs": [],
   "source": [
    "orders[\"order_datetime\"] = pd.to_datetime(orders[\"order_date\"] + \" \" + orders[\"order_time\"].astype(str), format=\"%d-%m-%Y %H:%M:%S\")"
   ]
  },
  {
   "cell_type": "code",
   "execution_count": null,
   "id": "85755461-7229-47e1-86fc-0b080d58804a",
   "metadata": {},
   "outputs": [],
   "source": [
    "orders[\"order_datetime\"]"
   ]
  },
  {
   "cell_type": "code",
   "execution_count": null,
   "id": "8f4f58dd-e171-4a3d-966f-cc1cbc851714",
   "metadata": {},
   "outputs": [],
   "source": [
    "orders[\"unit_price\"].sort_values().unique()"
   ]
  },
  {
   "cell_type": "code",
   "execution_count": null,
   "id": "b005662a-e4b7-4914-a342-5c96dbddfa9a",
   "metadata": {},
   "outputs": [],
   "source": [
    "orders[\"total_price\"].sort_values().unique()"
   ]
  },
  {
   "cell_type": "code",
   "execution_count": null,
   "id": "3d906102-442f-46d7-a611-a2311dc16f61",
   "metadata": {},
   "outputs": [],
   "source": [
    "orders[\"pizza_size\"].sort_values().unique()"
   ]
  },
  {
   "cell_type": "code",
   "execution_count": null,
   "id": "fb498bed-92db-412b-b00b-5e1e67fd0618",
   "metadata": {},
   "outputs": [],
   "source": [
    "orders[\"pizza_category\"].sort_values().unique()"
   ]
  },
  {
   "cell_type": "code",
   "execution_count": null,
   "id": "e29c6ab5-982f-41a1-8ac2-6c2cf372c6c4",
   "metadata": {},
   "outputs": [],
   "source": [
    "orders[\"pizza_ingredients\"].sort_values().unique()"
   ]
  },
  {
   "cell_type": "code",
   "execution_count": null,
   "id": "1820825c-4495-4263-aa97-c117d5c1ed65",
   "metadata": {},
   "outputs": [],
   "source": [
    "orders[\"pizza_ingredients\"] = orders[\"pizza_ingredients\"].str.replace(\"?\",\"N\")"
   ]
  },
  {
   "cell_type": "code",
   "execution_count": null,
   "id": "bce63404-ef83-4b7e-ba0c-513c13855d3c",
   "metadata": {},
   "outputs": [],
   "source": [
    "orders[\"pizza_name\"].sort_values().unique()"
   ]
  },
  {
   "cell_type": "markdown",
   "id": "8e75bb28-d584-4623-850d-cea4a92ec41d",
   "metadata": {},
   "source": [
    "### 3. Imputation of blank/null values"
   ]
  },
  {
   "cell_type": "code",
   "execution_count": null,
   "id": "78965cb4-48d2-4f25-834c-6407a408630d",
   "metadata": {},
   "outputs": [],
   "source": [
    "orders.isna().sum()"
   ]
  },
  {
   "cell_type": "markdown",
   "id": "a648c50d-a0ef-4c10-b7c4-d2b297f2da28",
   "metadata": {},
   "source": [
    "## Pizza Sales Data Analysis."
   ]
  },
  {
   "cell_type": "markdown",
   "id": "3d10f52e-8f08-46db-b4f3-b2d8d8e08a8d",
   "metadata": {},
   "source": [
    "#### 1. Total Revenue"
   ]
  },
  {
   "cell_type": "code",
   "execution_count": null,
   "id": "c24e786a-4d8c-476e-a9f9-c87bfd4a4df5",
   "metadata": {},
   "outputs": [],
   "source": [
    "orders[\"total_price\"].sum()"
   ]
  },
  {
   "cell_type": "markdown",
   "id": "7abb1db2-6998-4a72-a6a3-421bb82adcc2",
   "metadata": {},
   "source": [
    "#### 2. Total Sales"
   ]
  },
  {
   "cell_type": "code",
   "execution_count": null,
   "id": "8a187b41-d116-403e-81ef-5ea2cc6c0825",
   "metadata": {},
   "outputs": [],
   "source": [
    "orders[\"quantity\"].sum()"
   ]
  },
  {
   "cell_type": "markdown",
   "id": "90bbb316-5fcb-4f3e-a47f-f0f7d6509716",
   "metadata": {},
   "source": [
    "#### 3. Total Orders"
   ]
  },
  {
   "cell_type": "code",
   "execution_count": null,
   "id": "d14ef306-87d5-4362-9251-7c71b76f2eac",
   "metadata": {},
   "outputs": [],
   "source": [
    "orders[\"order_id\"].nunique()"
   ]
  },
  {
   "cell_type": "markdown",
   "id": "81cbd613-45cc-43f6-81b0-75f1ba792a96",
   "metadata": {},
   "source": [
    "#### 4. Average Order Value"
   ]
  },
  {
   "cell_type": "code",
   "execution_count": null,
   "id": "a20186bf-5577-4013-8e36-af1682b55220",
   "metadata": {},
   "outputs": [],
   "source": [
    "(orders[\"total_price\"].sum()/orders[\"order_id\"].nunique()).round(2)"
   ]
  },
  {
   "cell_type": "markdown",
   "id": "72969fb6-c76f-4e23-9d4f-f5baa30f00e3",
   "metadata": {},
   "source": [
    "#### 5. Average Pizza Price"
   ]
  },
  {
   "cell_type": "code",
   "execution_count": null,
   "id": "ca9684f3-ad55-413b-998d-86fc7decd6de",
   "metadata": {},
   "outputs": [],
   "source": [
    "(orders[\"total_price\"].sum()/orders[\"quantity\"].sum()).round(2)"
   ]
  },
  {
   "cell_type": "markdown",
   "id": "41db725a-3636-47de-a6f6-ace311c3dd23",
   "metadata": {},
   "source": [
    "#### 6. Average Pizzas per Order"
   ]
  },
  {
   "cell_type": "code",
   "execution_count": null,
   "id": "d777dfb3-fd81-4d0e-b374-397dd998ddb6",
   "metadata": {},
   "outputs": [],
   "source": [
    "(orders[\"quantity\"].sum()/orders[\"order_id\"].nunique()).round(2)"
   ]
  },
  {
   "cell_type": "code",
   "execution_count": null,
   "id": "8be1a5bc-1e8c-4306-8863-526249870633",
   "metadata": {},
   "outputs": [],
   "source": []
  }
 ],
 "metadata": {
  "kernelspec": {
   "display_name": "Python 3 (ipykernel)",
   "language": "python",
   "name": "python3"
  },
  "language_info": {
   "codemirror_mode": {
    "name": "ipython",
    "version": 3
   },
   "file_extension": ".py",
   "mimetype": "text/x-python",
   "name": "python",
   "nbconvert_exporter": "python",
   "pygments_lexer": "ipython3",
   "version": "3.12.4"
  }
 },
 "nbformat": 4,
 "nbformat_minor": 5
}
